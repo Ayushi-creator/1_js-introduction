{
  "nbformat": 4,
  "nbformat_minor": 0,
  "metadata": {
    "colab": {
      "name": "Copy of PythonBasics.ipynb",
      "provenance": [],
      "authorship_tag": "ABX9TyNr5KcMmi/jOnSbTCbNmdTl",
      "include_colab_link": true
    },
    "kernelspec": {
      "name": "python3",
      "display_name": "Python 3"
    },
    "language_info": {
      "name": "python"
    }
  },
  "cells": [
    {
      "cell_type": "markdown",
      "metadata": {
        "id": "view-in-github",
        "colab_type": "text"
      },
      "source": [
        "<a href=\"https://colab.research.google.com/github/Ayushi-creator/1_js-introduction/blob/master/Copy_of_PythonBasics.ipynb\" target=\"_parent\"><img src=\"https://colab.research.google.com/assets/colab-badge.svg\" alt=\"Open In Colab\"/></a>"
      ]
    },
    {
      "cell_type": "code",
      "execution_count": null,
      "metadata": {
        "colab": {
          "base_uri": "https://localhost:8080/"
        },
        "id": "4bhoJJuc1vWN",
        "outputId": "5506579b-5f6c-42ce-dacb-034471c1f27e"
      },
      "outputs": [
        {
          "output_type": "stream",
          "name": "stdout",
          "text": [
            "Hello Pepcoding\n"
          ]
        }
      ],
      "source": [
        "print(\"Hello Pepcoding\")\n"
      ]
    },
    {
      "cell_type": "code",
      "source": [
        "num=10"
      ],
      "metadata": {
        "id": "98JIRSlF2yQ_"
      },
      "execution_count": null,
      "outputs": []
    },
    {
      "cell_type": "code",
      "source": [
        "print(num)"
      ],
      "metadata": {
        "colab": {
          "base_uri": "https://localhost:8080/"
        },
        "id": "dbOUhFH_3W4w",
        "outputId": "31fc0fa0-c104-4c3a-de21-744f7658c063"
      },
      "execution_count": null,
      "outputs": [
        {
          "output_type": "stream",
          "name": "stdout",
          "text": [
            "10\n"
          ]
        }
      ]
    },
    {
      "cell_type": "code",
      "source": [
        "string=\"Pepcoding\"\n",
        "print(string)"
      ],
      "metadata": {
        "colab": {
          "base_uri": "https://localhost:8080/"
        },
        "id": "jfCC4ND-3kOE",
        "outputId": "b340393e-e7af-42fa-ed96-df4c8e6b571b"
      },
      "execution_count": null,
      "outputs": [
        {
          "output_type": "stream",
          "name": "stdout",
          "text": [
            "Pepcoding\n"
          ]
        }
      ]
    },
    {
      "cell_type": "code",
      "source": [
        "print(type(string))"
      ],
      "metadata": {
        "colab": {
          "base_uri": "https://localhost:8080/"
        },
        "id": "IBKKqvHC3ywo",
        "outputId": "d3ec5f8a-24ad-476c-e19d-925a14669dc6"
      },
      "execution_count": null,
      "outputs": [
        {
          "output_type": "stream",
          "name": "stdout",
          "text": [
            "<class 'str'>\n"
          ]
        }
      ]
    },
    {
      "cell_type": "code",
      "source": [
        "print(type(num))"
      ],
      "metadata": {
        "colab": {
          "base_uri": "https://localhost:8080/"
        },
        "id": "HNGx5Ph137Gf",
        "outputId": "0b6625b0-6276-4df8-cba8-2f4e8f10d375"
      },
      "execution_count": null,
      "outputs": [
        {
          "output_type": "stream",
          "name": "stdout",
          "text": [
            "<class 'int'>\n"
          ]
        }
      ]
    },
    {
      "cell_type": "code",
      "source": [
        "flt=2.2\n",
        "print(type(flt))"
      ],
      "metadata": {
        "colab": {
          "base_uri": "https://localhost:8080/"
        },
        "id": "j7lVUbxj4eRT",
        "outputId": "8a4780c4-e3e8-4de7-bb73-e18d0fbc5776"
      },
      "execution_count": null,
      "outputs": [
        {
          "output_type": "stream",
          "name": "stdout",
          "text": [
            "<class 'float'>\n"
          ]
        }
      ]
    },
    {
      "cell_type": "code",
      "source": [
        "print(type(flt),type(num),type(string))"
      ],
      "metadata": {
        "colab": {
          "base_uri": "https://localhost:8080/"
        },
        "id": "7rXCwmmB4n6g",
        "outputId": "5a73067a-455f-4c21-a94e-ca72c01619df"
      },
      "execution_count": null,
      "outputs": [
        {
          "output_type": "stream",
          "name": "stdout",
          "text": [
            "<class 'float'> <class 'int'> <class 'str'>\n"
          ]
        }
      ]
    },
    {
      "cell_type": "code",
      "source": [
        "a,b,c=10,20,30\n",
        "print(a,b,c)"
      ],
      "metadata": {
        "colab": {
          "base_uri": "https://localhost:8080/"
        },
        "id": "BpdrhXQZ40vv",
        "outputId": "affe8b69-e874-4e9e-c0b0-21f299afa116"
      },
      "execution_count": null,
      "outputs": [
        {
          "output_type": "stream",
          "name": "stdout",
          "text": [
            "10 20 30\n"
          ]
        }
      ]
    },
    {
      "cell_type": "code",
      "source": [
        "a=b=c=5\n"
      ],
      "metadata": {
        "id": "qlhnquqL5UmF"
      },
      "execution_count": null,
      "outputs": []
    },
    {
      "cell_type": "code",
      "source": [
        "import keyword\n",
        "print(keyword.kwlist)"
      ],
      "metadata": {
        "colab": {
          "base_uri": "https://localhost:8080/"
        },
        "id": "2EM8J_B_95AK",
        "outputId": "1bc9507e-aed6-41f1-87ef-d9eb87818379"
      },
      "execution_count": null,
      "outputs": [
        {
          "output_type": "stream",
          "name": "stdout",
          "text": [
            "['False', 'None', 'True', 'and', 'as', 'assert', 'async', 'await', 'break', 'class', 'continue', 'def', 'del', 'elif', 'else', 'except', 'finally', 'for', 'from', 'global', 'if', 'import', 'in', 'is', 'lambda', 'nonlocal', 'not', 'or', 'pass', 'raise', 'return', 'try', 'while', 'with', 'yield']\n"
          ]
        }
      ]
    },
    {
      "cell_type": "code",
      "source": [
        ""
      ],
      "metadata": {
        "id": "h3DePtYJ-CW6"
      },
      "execution_count": null,
      "outputs": []
    },
    {
      "cell_type": "markdown",
      "source": [
        "##Numbers\n"
      ],
      "metadata": {
        "id": "K5KdTleNAfWs"
      }
    },
    {
      "cell_type": "code",
      "source": [
        "num1=100\n",
        "num2=4.4\n",
        "num3=5+6j\n",
        "print(type(num),type(num2),type(num3))"
      ],
      "metadata": {
        "colab": {
          "base_uri": "https://localhost:8080/"
        },
        "id": "4nNIFq5vAiRW",
        "outputId": "e92bbccd-1189-43f3-95dc-0872fdc292c5"
      },
      "execution_count": null,
      "outputs": [
        {
          "output_type": "stream",
          "name": "stdout",
          "text": [
            "<class 'int'> <class 'float'> <class 'complex'>\n"
          ]
        }
      ]
    },
    {
      "cell_type": "code",
      "source": [
        "print(num1,num2,num3)"
      ],
      "metadata": {
        "colab": {
          "base_uri": "https://localhost:8080/"
        },
        "id": "-wJU276FBIEt",
        "outputId": "116590ca-b14c-4b25-a4f9-c4c3c13d48b5"
      },
      "execution_count": null,
      "outputs": [
        {
          "output_type": "stream",
          "name": "stdout",
          "text": [
            "100 4.4 (5+6j)\n"
          ]
        }
      ]
    },
    {
      "cell_type": "code",
      "source": [
        ""
      ],
      "metadata": {
        "id": "C80vJStdBSwg"
      },
      "execution_count": null,
      "outputs": []
    },
    {
      "cell_type": "markdown",
      "source": [
        "##String\n"
      ],
      "metadata": {
        "id": "NAaFaGd3Bblv"
      }
    },
    {
      "cell_type": "code",
      "source": [
        "string=\"Pepcoding\"\n",
        "print(type(string))"
      ],
      "metadata": {
        "colab": {
          "base_uri": "https://localhost:8080/"
        },
        "id": "2MH_Pm19Bd4V",
        "outputId": "940539f4-950d-4333-8012-d63757d8e06e"
      },
      "execution_count": null,
      "outputs": [
        {
          "output_type": "stream",
          "name": "stdout",
          "text": [
            "<class 'str'>\n"
          ]
        }
      ]
    },
    {
      "cell_type": "code",
      "source": [
        "print(string[0])"
      ],
      "metadata": {
        "colab": {
          "base_uri": "https://localhost:8080/"
        },
        "id": "i7wwxTiWBtZd",
        "outputId": "d8840ef1-4c66-4704-e396-ce1b1be0da62"
      },
      "execution_count": null,
      "outputs": [
        {
          "output_type": "stream",
          "name": "stdout",
          "text": [
            "P\n"
          ]
        }
      ]
    },
    {
      "cell_type": "code",
      "source": [
        ""
      ],
      "metadata": {
        "id": "z5mWGJQcB0I5"
      },
      "execution_count": null,
      "outputs": []
    },
    {
      "cell_type": "markdown",
      "source": [
        "string in python are immutabel"
      ],
      "metadata": {
        "id": "-S2PgYR-PgvD"
      }
    },
    {
      "cell_type": "code",
      "source": [
        "string=\"Nados\""
      ],
      "metadata": {
        "id": "0aGmQYXYPpiT"
      },
      "execution_count": null,
      "outputs": []
    },
    {
      "cell_type": "code",
      "source": [
        ""
      ],
      "metadata": {
        "id": "pdjtn832TsXE"
      },
      "execution_count": null,
      "outputs": []
    },
    {
      "cell_type": "markdown",
      "source": [
        "##slicing\n"
      ],
      "metadata": {
        "id": "lvSKsvebTvoz"
      }
    },
    {
      "cell_type": "code",
      "source": [
        "string[0:3]"
      ],
      "metadata": {
        "colab": {
          "base_uri": "https://localhost:8080/",
          "height": 166
        },
        "id": "zndacv0LTxCG",
        "outputId": "b38e580d-da14-4935-bab2-f6b073ff1918"
      },
      "execution_count": null,
      "outputs": [
        {
          "output_type": "error",
          "ename": "NameError",
          "evalue": "ignored",
          "traceback": [
            "\u001b[0;31m---------------------------------------------------------------------------\u001b[0m",
            "\u001b[0;31mNameError\u001b[0m                                 Traceback (most recent call last)",
            "\u001b[0;32m<ipython-input-1-78b5c96dbe3d>\u001b[0m in \u001b[0;36m<module>\u001b[0;34m\u001b[0m\n\u001b[0;32m----> 1\u001b[0;31m \u001b[0mstring\u001b[0m\u001b[0;34m[\u001b[0m\u001b[0;36m0\u001b[0m\u001b[0;34m:\u001b[0m\u001b[0;36m3\u001b[0m\u001b[0;34m]\u001b[0m\u001b[0;34m\u001b[0m\u001b[0;34m\u001b[0m\u001b[0m\n\u001b[0m",
            "\u001b[0;31mNameError\u001b[0m: name 'string' is not defined"
          ]
        }
      ]
    },
    {
      "cell_type": "code",
      "source": [
        "string[0:]"
      ],
      "metadata": {
        "id": "zt7Ia3e9T6Oc"
      },
      "execution_count": null,
      "outputs": []
    },
    {
      "cell_type": "code",
      "source": [
        "string[:3]"
      ],
      "metadata": {
        "id": "m4tDAObsUTCa"
      },
      "execution_count": null,
      "outputs": []
    },
    {
      "cell_type": "code",
      "source": [
        "string[:]"
      ],
      "metadata": {
        "id": "Dc1C_tXcUezx"
      },
      "execution_count": null,
      "outputs": []
    },
    {
      "cell_type": "code",
      "source": [
        "string[0:4:2]"
      ],
      "metadata": {
        "id": "qO1_m9kvUnK1"
      },
      "execution_count": null,
      "outputs": []
    },
    {
      "cell_type": "code",
      "source": [
        "string[::2]"
      ],
      "metadata": {
        "id": "geTjOPUsU8x7"
      },
      "execution_count": null,
      "outputs": []
    },
    {
      "cell_type": "code",
      "source": [
        "string[7:1:1]"
      ],
      "metadata": {
        "id": "sjDcFeG1aO9d"
      },
      "execution_count": null,
      "outputs": []
    },
    {
      "cell_type": "code",
      "source": [
        "string[-1]"
      ],
      "metadata": {
        "id": "gXregplfcG7p"
      },
      "execution_count": null,
      "outputs": []
    },
    {
      "cell_type": "code",
      "source": [
        "string=\"Pepcoding\""
      ],
      "metadata": {
        "id": "sef-eBFCc8Vi"
      },
      "execution_count": null,
      "outputs": []
    },
    {
      "cell_type": "markdown",
      "source": [
        "start default vsalue 0 end default  alue length "
      ],
      "metadata": {
        "id": "53vH5RIY0TPT"
      }
    },
    {
      "cell_type": "markdown",
      "source": [
        "in negative counting starts from end with (-1) like g(-1) n(-2)....\n",
        "\n",
        "---\n",
        "\n"
      ],
      "metadata": {
        "id": "qaQBadp-2QQ5"
      }
    },
    {
      "cell_type": "markdown",
      "source": [
        "start<end\n",
        "step could be negative"
      ],
      "metadata": {
        "id": "N6nxY8w53BY0"
      }
    },
    {
      "cell_type": "code",
      "source": [
        "string[-9:-6]"
      ],
      "metadata": {
        "id": "U29rlgo22c5v"
      },
      "execution_count": null,
      "outputs": []
    },
    {
      "cell_type": "code",
      "source": [
        "string[8:5:-1]"
      ],
      "metadata": {
        "id": "KhrQ-0wP2koG"
      },
      "execution_count": null,
      "outputs": []
    },
    {
      "cell_type": "code",
      "source": [
        "string[-3:-9:-1]"
      ],
      "metadata": {
        "id": "LlcfWpYa4Le3"
      },
      "execution_count": null,
      "outputs": []
    },
    {
      "cell_type": "markdown",
      "source": [
        "step>0 left to right start<end start default value0 end default value len"
      ],
      "metadata": {
        "id": "kDrn3A0242Tb"
      }
    },
    {
      "cell_type": "markdown",
      "source": [
        "step<0 right to left start>end  start default value len and end default value is 0"
      ],
      "metadata": {
        "id": "_2tejtCJ5GId"
      }
    },
    {
      "cell_type": "code",
      "source": [
        "inp=input()"
      ],
      "metadata": {
        "id": "nYpkAIEx6EoE"
      },
      "execution_count": null,
      "outputs": []
    },
    {
      "cell_type": "code",
      "source": [
        "print(type(inp))"
      ],
      "metadata": {
        "id": "s_6Bim5k6zLW"
      },
      "execution_count": null,
      "outputs": []
    },
    {
      "cell_type": "code",
      "source": [
        "inp1=int(input())"
      ],
      "metadata": {
        "id": "JkqA69uf6Lbv"
      },
      "execution_count": null,
      "outputs": []
    },
    {
      "cell_type": "markdown",
      "source": [
        "input function read in string format\n"
      ],
      "metadata": {
        "id": "a45tAJZZ7CZ8"
      }
    },
    {
      "cell_type": "code",
      "source": [
        "print(type(inp))"
      ],
      "metadata": {
        "id": "Nc8E5VJe6UmV"
      },
      "execution_count": null,
      "outputs": []
    },
    {
      "cell_type": "code",
      "source": [
        "print(type(inp1))"
      ],
      "metadata": {
        "id": "Sz3I-jsX6lAR"
      },
      "execution_count": null,
      "outputs": []
    },
    {
      "cell_type": "code",
      "source": [
        "len(string)"
      ],
      "metadata": {
        "id": "Ap0-2UUD6u5z"
      },
      "execution_count": null,
      "outputs": []
    },
    {
      "cell_type": "code",
      "source": [
        "string[2:-2:-1]"
      ],
      "metadata": {
        "id": "qlmj3zWu8luS"
      },
      "execution_count": null,
      "outputs": []
    },
    {
      "cell_type": "code",
      "source": [
        "string[:4:-1]"
      ],
      "metadata": {
        "id": "635wFyq-8ugu"
      },
      "execution_count": null,
      "outputs": []
    },
    {
      "cell_type": "code",
      "source": [
        "string[-1:]"
      ],
      "metadata": {
        "id": "B8HTwWm-9kIb"
      },
      "execution_count": null,
      "outputs": []
    },
    {
      "cell_type": "markdown",
      "source": [
        "step size nahi diya toh movement left to right hogiend diya nahi toh default value g(-1) start bhi (-1)toh oputput g"
      ],
      "metadata": {
        "id": "eMd2TxY0-iVy"
      }
    },
    {
      "cell_type": "code",
      "source": [
        "for ch in string:\n",
        "  print(ch)"
      ],
      "metadata": {
        "id": "OeUJICgS_D_y"
      },
      "execution_count": null,
      "outputs": []
    },
    {
      "cell_type": "code",
      "source": [
        "print(\"Pep\")\n",
        "print(\"coding\")"
      ],
      "metadata": {
        "id": "ekM8QCQe_rQF"
      },
      "execution_count": null,
      "outputs": []
    },
    {
      "cell_type": "markdown",
      "source": [
        "now want pep coding in singel line"
      ],
      "metadata": {
        "id": "U3gfoLkEAFZw"
      }
    },
    {
      "cell_type": "code",
      "source": [
        "print(\"Pep\",end=\"\")\n",
        "print(\"coding\")"
      ],
      "metadata": {
        "id": "OIr3fqUXAJYy"
      },
      "execution_count": null,
      "outputs": []
    },
    {
      "cell_type": "code",
      "source": [
        "if \"coding\" in string:\n",
        "  print(\"Hello Pepcoding\")"
      ],
      "metadata": {
        "id": "bFP4a0hrArFf"
      },
      "execution_count": null,
      "outputs": []
    },
    {
      "cell_type": "code",
      "source": [
        "string.upper()"
      ],
      "metadata": {
        "id": "dPunyW7_BGOr"
      },
      "execution_count": null,
      "outputs": []
    },
    {
      "cell_type": "code",
      "source": [
        "string.lower()"
      ],
      "metadata": {
        "id": "kbRjctzkBbY6"
      },
      "execution_count": null,
      "outputs": []
    },
    {
      "cell_type": "markdown",
      "source": [
        "##IF ELSE"
      ],
      "metadata": {
        "id": "stLlpF0sBm4c"
      }
    },
    {
      "cell_type": "code",
      "source": [
        "if 1>2:\n",
        "  print(\"A\")\n",
        "else:\n",
        "    print(\"B\")"
      ],
      "metadata": {
        "colab": {
          "base_uri": "https://localhost:8080/"
        },
        "id": "ZsjNMjtABgir",
        "outputId": "76432839-28d7-4b39-914d-388b217ffc0e"
      },
      "execution_count": null,
      "outputs": [
        {
          "output_type": "stream",
          "name": "stdout",
          "text": [
            "B\n"
          ]
        }
      ]
    },
    {
      "cell_type": "code",
      "source": [
        "marks=55\n",
        "if marks>90:\n",
        "  print(\"A grade\")\n",
        "elif marks>80:\n",
        "    print(\"B  grade\")\n",
        "else:\n",
        "  print(\"c grade\")    \n"
      ],
      "metadata": {
        "colab": {
          "base_uri": "https://localhost:8080/"
        },
        "id": "YtbbXt6ACS9R",
        "outputId": "461e19c1-b6f0-45f8-b86d-ccb537e9cb35"
      },
      "execution_count": null,
      "outputs": [
        {
          "output_type": "stream",
          "name": "stdout",
          "text": [
            "c grade\n"
          ]
        }
      ]
    },
    {
      "cell_type": "code",
      "source": [
        "for i in range(5):\n",
        "  print(i)"
      ],
      "metadata": {
        "colab": {
          "base_uri": "https://localhost:8080/"
        },
        "id": "QLdmt9kJDBGd",
        "outputId": "49ccfb40-6f29-48a4-83df-dcc5d27aa1d3"
      },
      "execution_count": null,
      "outputs": [
        {
          "output_type": "stream",
          "name": "stdout",
          "text": [
            "0\n",
            "1\n",
            "2\n",
            "3\n",
            "4\n"
          ]
        }
      ]
    },
    {
      "cell_type": "code",
      "source": [
        "for i in range(5):\n",
        "  print(i*i)"
      ],
      "metadata": {
        "colab": {
          "base_uri": "https://localhost:8080/"
        },
        "id": "kVdr_zCZDiyD",
        "outputId": "65f4c663-098e-445f-f2b2-a6f25a6ee0bc"
      },
      "execution_count": null,
      "outputs": [
        {
          "output_type": "stream",
          "name": "stdout",
          "text": [
            "0\n",
            "1\n",
            "4\n",
            "9\n",
            "16\n"
          ]
        }
      ]
    },
    {
      "cell_type": "code",
      "source": [
        "i=0\n",
        "while i<5:\n",
        "  i+=1"
      ],
      "metadata": {
        "id": "YayTdtX3DqUH"
      },
      "execution_count": null,
      "outputs": []
    },
    {
      "cell_type": "code",
      "source": [
        "\n",
        "for i in range(5):\n",
        "  if i==2:\n",
        "   break\n",
        "  print(i*i)"
      ],
      "metadata": {
        "colab": {
          "base_uri": "https://localhost:8080/"
        },
        "id": "6FnUDubdE4Tw",
        "outputId": "f45db5ea-47d3-46df-d726-6c5b4c9ad8fb"
      },
      "execution_count": null,
      "outputs": [
        {
          "output_type": "stream",
          "name": "stdout",
          "text": [
            "0\n",
            "1\n"
          ]
        }
      ]
    },
    {
      "cell_type": "code",
      "source": [
        "for i in range(5):\n",
        "  print(str(i)+ \"Hello\")\n",
        "  if i==2:\n",
        "    break\n"
      ],
      "metadata": {
        "colab": {
          "base_uri": "https://localhost:8080/"
        },
        "id": "AbyEeUZJFvWT",
        "outputId": "9294d367-777f-47bd-f003-db778bd9c6b3"
      },
      "execution_count": null,
      "outputs": [
        {
          "output_type": "stream",
          "name": "stdout",
          "text": [
            "0Hello\n",
            "1Hello\n",
            "2Hello\n"
          ]
        }
      ]
    },
    {
      "cell_type": "code",
      "source": [
        "for i in range(5):\n",
        "  if i==2:\n",
        "    continue\n",
        "  print(str(i)+ \"Hello\")\n"
      ],
      "metadata": {
        "colab": {
          "base_uri": "https://localhost:8080/"
        },
        "id": "idpl30W4GMK3",
        "outputId": "409bbad0-d579-4153-b2ce-72d65a8aa20c"
      },
      "execution_count": null,
      "outputs": [
        {
          "output_type": "stream",
          "name": "stdout",
          "text": [
            "0Hello\n",
            "1Hello\n",
            "3Hello\n",
            "4Hello\n"
          ]
        }
      ]
    },
    {
      "cell_type": "code",
      "source": [
        ""
      ],
      "metadata": {
        "id": "6yNZx7LkWJ03"
      },
      "execution_count": null,
      "outputs": []
    }
  ]
}